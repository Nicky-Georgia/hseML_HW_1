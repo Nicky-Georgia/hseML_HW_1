{
 "cells": [
  {
   "cell_type": "code",
   "execution_count": 31,
   "id": "initial_id",
   "metadata": {
    "collapsed": true,
    "ExecuteTime": {
     "end_time": "2023-12-06T06:57:38.500401Z",
     "start_time": "2023-12-06T06:57:38.496503Z"
    }
   },
   "outputs": [],
   "source": [
    "import json\n",
    "import requests\n",
    "\n",
    "test_json = {\n",
    "    \"name\": \"Maruti Ritz ZXi\",\n",
    "    \"year\": 1999,\n",
    "    \"km_driven\": 201800,\n",
    "    \"fuel\": \"Petrol\",\n",
    "    \"seller_type\": \"Individual\",\n",
    "    \"transmission\": \"Manual\",\n",
    "    \"owner\": \"First Owner\",\n",
    "    \"mileage\": \"20 kmpl\",\n",
    "    \"engine\": \"1200 CC\",\n",
    "    \"max_power\": \"80 bhp\",\n",
    "    \"seats\": 2\n",
    "}\n",
    "\n",
    "json_path = \"f_api_JS.json\"\n",
    "\n",
    "with open(json_path, 'w') as json_file:\n",
    "    json.dump(test_json, json_file, indent=4)"
   ]
  },
  {
   "cell_type": "code",
   "execution_count": 42,
   "outputs": [
    {
     "name": "stdout",
     "output_type": "stream",
     "text": [
      "69485.69330190233\n"
     ]
    }
   ],
   "source": [
    "url_json = \"http://127.0.0.1:8000/predict_item\"\n",
    "\n",
    "json_file_path = 'f_api_JS.json'\n",
    "\n",
    "with open(json_file_path, 'r') as file:\n",
    "    json_data = json.load(file)\n",
    "\n",
    "response = requests.post(url_json, json=json_data)\n",
    "\n",
    "print(response.json())"
   ],
   "metadata": {
    "collapsed": false,
    "ExecuteTime": {
     "end_time": "2023-12-06T07:16:56.414627Z",
     "start_time": "2023-12-06T07:16:56.362104Z"
    }
   },
   "id": "14d19bc6428ad18e"
  }
 ],
 "metadata": {
  "kernelspec": {
   "display_name": "Python 3",
   "language": "python",
   "name": "python3"
  },
  "language_info": {
   "codemirror_mode": {
    "name": "ipython",
    "version": 2
   },
   "file_extension": ".py",
   "mimetype": "text/x-python",
   "name": "python",
   "nbconvert_exporter": "python",
   "pygments_lexer": "ipython2",
   "version": "2.7.6"
  }
 },
 "nbformat": 4,
 "nbformat_minor": 5
}
